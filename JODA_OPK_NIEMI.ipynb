{
 "cells": [
  {
   "cell_type": "markdown",
   "id": "680584a0",
   "metadata": {},
   "source": [
    "# **<font color='33a2ff'>Johdatus datatieteeseen -oppimispäiväkirja</font>** \n",
    "#### **Tero Niemi | Student ID: 50796717** "
   ]
  },
  {
   "cell_type": "markdown",
   "id": "29ef3599",
   "metadata": {},
   "source": [
    "### <font color='#464d4f'>Table of Contents</font>\n",
    "\n",
    "* [**Luentoviikko 1 - Johdanto aihepiiriin ja suorittaminen**](#Luentoviikko-1---Johdanto-aihepiiriin-ja-suorittaminen)    \n",
    "* [**Luentoviikko 2 - Datan kerääminen ja jalostaminen**](#Luentoviikko-2---Datan-kerääminen-ja-jalostaminen)    \n",
    "* [**Luentoviikko 3 - Koneoppimisen periaatteet**](#Luentoviikko-3---Koneoppimisen-periaatteet)\n",
    "* [**Luentoviikko 4 - Harjoitustyöhön tutustuminen**](#Luentoviikko-4---Harjoitustyöhön-tutustuminen)\n",
    "* [**Luentoviikko 5 - Solita NLP (vierailuluento)**](#Luentoviikko-5---Solita-NLP-(vierailuluento))"
   ]
  },
  {
   "cell_type": "markdown",
   "id": "e07d8e02",
   "metadata": {},
   "source": [
    "## **<font color='33a2ff'>Luentoviikko 1 - Johdanto aihepiiriin ja suorittaminen</font>**"
   ]
  },
  {
   "cell_type": "markdown",
   "id": "555f5bd1",
   "metadata": {},
   "source": [
    "Osallistuin luennolle ja demoluennolle, joten ne toimivat muistia virkistävän luentotallenteen lisäksi aineistona ensimmäisen viikon osalta. \n",
    "\n",
    "Aikatauluni on seuraavan kuukauden ajan todella tiukka johtuen lähinnä työllistävästä Data Analysis with Python 2020 -kurssista, jota käyn avoimen yliopiston kautta. Pyrin kuitenkin ottamaan kaiken irti tästä kurssista, sillä se vaikuttaa äärimmäisen sopivalta sekä oman mielenkiinnon että työelämän kannalta."
   ]
  },
  {
   "cell_type": "markdown",
   "id": "702f738a",
   "metadata": {},
   "source": [
    "### **<font color='#464d4f'>Luento</font>**"
   ]
  },
  {
   "cell_type": "markdown",
   "id": "86383d4a",
   "metadata": {},
   "source": [
    "Luennon aluksi käytiin läpi kurssin suorittamiseen liittyvät asiat ja kurssiaikataulu. Tämä vei noin kolmanneksen luennosta, joten varsinaista asiasisältöä tuli ensimmäiselle luennolle tyypilliseen tapaan vähemmän kuin normaalisti. Harjoitustyön toteuttaminen käydään läpi myöhemmin.\n",
    "\n",
    "On erinomainen idea toteuttaa luentomateriaali Jupyter Notebookeina! Päätin itsekin yrittää oppimispäiväkirjan toteuttamista Notebookina. Siitä seurasi ensimmäinen ongelma: miten se tapahtuu? Osallistun kurssille FiTechin kautta, enkä ole aiemmin ollut missään tekemisissä Notebookien kanssa (eli jos perusopiskelijoille on sitä jollain aiemmalla kurssilla opetettu, en ole sellaista oppia saanut). No, netti auttaa tarvittaessa, kuten aina. \n",
    "\n",
    "Käytiin nopeasti läpi joitain Notebookin toiminnallisuuksia ja datatieteen historiaa.\n",
    "\n",
    "- Data scientistin osaamisalueet: liiketoimintaosaaminen, ohjelmointi- ja tietokantaosaaminen, tilastollinen analyysi, datalähtöinen viestintä ja visualisointi\n",
    "\n",
    "Python on ensisijainen ohjelmointikieli datatieteessä. Koodiosaaminen on arvokasta, koska graafisilla valmisvälineillä (PowerBI, Tableau...) on rajansa ja rajoitteensa. Koodi on joustavaa ja sillä voi käsitellä dataa mistä tahansa tietolähteestä. Koodilla analyysi voidaan ajastaa ajettavaksi halutuin aikavälein. Koodi on toistettavaa, korjattavaa, ja ainakin Pythonin osalta yhteisön tuki on valtavaa, valmista koodia on saatavilla joka lähtöön.\n",
    "\n",
    "CRISP-DM -mallin kohdalla puhuttiin kysymysten asettelusta ennen varsinaseen analyysiprosessiin ryhtymistä. Data on jo olemassa, mutta mitä siitä halutaan saada selville? Luovuus tuli tässä yhteydessä esiin. Millasessa muodossa tarvitsemme datan vastataksemme kysymyksiimme? Datan valmistelu on koko prosessin heittämällä aikaa vievin osuus. Valmistelun jälkeen dataa voidaan mallintaa, jossa koneoppiminen on ydinmenetelmäjoukko. Dataa esim. jatkojalostetaan koneoppimisen menetelmillä.\n",
    "\n",
    "Data scientistien työkalupakkien ja osaamisaluiden esittely visualisointeina, etenkin metrokartassa oleva tavaran määrä on ihan älytön. Tuskin kukaan noita kaikkia hallitsee, tiimityö kunniaan! Omalla kohdalla metrokartasta on tämän jakson aikana tarkoitus ottaa haltuun muilla kursseilla database basics ja Python data-analytiikassa mahdollisimman syvällisesti. Tämän kurssin osalta olen vielä hieman katselumoodissa, toivottavasti ainakin peruskäsitys tulee mahdollisimman monesta asiasta, joita voi syventää myöhemmin joko opiskelemalla tai työelämässä.\n",
    "\n",
    "Big data - volume, velocity, veracity, variety. Mitä isompi data, sitä enemmän menee aikaa sen haltuunottamiseen.\n",
    "\n",
    "Lopuksi maininta Roslingin videosta. En ole videota katsonut, mutta pitää korjata asia. Gapminder vaikuttaa aivan loistavalta harjoitteluun! Myös Kaggle pitää pitää mielessä."
   ]
  },
  {
   "cell_type": "code",
   "execution_count": null,
   "id": "48c6befc",
   "metadata": {},
   "outputs": [],
   "source": []
  }
 ],
 "metadata": {
  "kernelspec": {
   "display_name": "Python 3",
   "language": "python",
   "name": "python3"
  },
  "language_info": {
   "codemirror_mode": {
    "name": "ipython",
    "version": 3
   },
   "file_extension": ".py",
   "mimetype": "text/x-python",
   "name": "python",
   "nbconvert_exporter": "python",
   "pygments_lexer": "ipython3",
   "version": "3.8.2"
  }
 },
 "nbformat": 4,
 "nbformat_minor": 5
}
