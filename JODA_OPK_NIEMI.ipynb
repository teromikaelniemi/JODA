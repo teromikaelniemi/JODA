{
 "cells": [
  {
   "cell_type": "markdown",
   "id": "680584a0",
   "metadata": {},
   "source": [
    "# **<font color='33a2ff'>Johdatus datatieteeseen -oppimispäiväkirja</font>** \n",
    "#### <font color='#464d4f'>Tero Niemi | Student ID: 50796717 </font>"
   ]
  },
  {
   "cell_type": "markdown",
   "id": "29ef3599",
   "metadata": {},
   "source": [
    "### <font color='#464d4f'>Table of Contents</font>\n",
    "\n",
    "* [**Luentoviikko 1 - Johdanto aihepiiriin ja suorittaminen**](#Luentoviikko-1---Johdanto-aihepiiriin-ja-suorittaminen)    \n",
    "* [**Luentoviikko 2 - Datan kerääminen ja jalostaminen**](#Luentoviikko-2---Datan-kerääminen-ja-jalostaminen)    \n",
    "* [**Luentoviikko 3 - Koneoppimisen periaatteet**](#Luentoviikko-3---Koneoppimisen-periaatteet)\n",
    "* [**Luentoviikko 4 - Harjoitustyöhön tutustuminen**](#Luentoviikko-4---Harjoitustyöhön-tutustuminen)\n",
    "* [**Luentoviikko 5 - Solita NLP (vierailuluento)**](#Luentoviikko-5---Solita-NLP-(vierailuluento))"
   ]
  },
  {
   "cell_type": "code",
   "execution_count": null,
   "id": "876a4651",
   "metadata": {},
   "outputs": [],
   "source": []
  }
 ],
 "metadata": {
  "kernelspec": {
   "display_name": "Python 3",
   "language": "python",
   "name": "python3"
  },
  "language_info": {
   "codemirror_mode": {
    "name": "ipython",
    "version": 3
   },
   "file_extension": ".py",
   "mimetype": "text/x-python",
   "name": "python",
   "nbconvert_exporter": "python",
   "pygments_lexer": "ipython3",
   "version": "3.8.2"
  }
 },
 "nbformat": 4,
 "nbformat_minor": 5
}
