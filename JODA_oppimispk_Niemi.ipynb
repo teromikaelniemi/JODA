{
 "cells": [
  {
   "cell_type": "markdown",
   "metadata": {},
   "source": [
    "# **<font color='33a2ff'>Johdatus datatieteeseen -oppimispäiväkirja</font>** \n",
    "#### <font color='#464d4f'>Tero Niemi | Student ID: 50796717 </font>"
   ]
  },
  {
   "cell_type": "markdown",
   "metadata": {},
   "source": [
    " "
   ]
  },
  {
   "cell_type": "markdown",
   "metadata": {},
   "source": [
    "\n",
    "\n",
    "### <font color='#464d4f'>Table of Contents</font>\n",
    "\n",
    "* [**Luentoviikko 1 - Johdanto aihepiiriin ja suorittaminen**](#Luentoviikko-1---Johdanto-aihepiiriin-ja-suorittaminen)    \n",
    "* [**Luentoviikko 2 - Datan kerääminen ja jalostaminen**](#Luentoviikko-2---Datan-kerääminen-ja-jalostaminen)    \n",
    "* [**Luentoviikko 3 - Koneoppimisen periaatteet**](#Luentoviikko-3---Koneoppimisen-periaatteet)\n",
    "* [**Luentoviikko 4 - Harjoitustyöhön tutustuminen**](#Luentoviikko-4---Harjoitustyöhön-tutustuminen)\n",
    "* [**Luentoviikko 5 - Solita NLP (vierailuluento)**](#Luentoviikko-5---Solita-NLP-(vierailuluento))"
   ]
  },
  {
   "cell_type": "markdown",
   "metadata": {},
   "source": [
    " "
   ]
  },
  {
   "cell_type": "markdown",
   "metadata": {},
   "source": [
    "## **<font color='33a2ff'>Luentoviikko 1 - Johdanto aihepiiriin ja suorittaminen</font>**"
   ]
  },
  {
   "cell_type": "markdown",
   "metadata": {},
   "source": [
    "Osallistuin luennolle ja demoluennolle, joten ne toimivat muistia virkistävän luentotallenteen lisäksi aineistona ensimmäisen viikon osalta. \n",
    "\n",
    "Aikatauluni on seuraavan kuukauden ajan todella tiukka johtuen lähinnä työllistävästä Data Analysis with Python 2020 -kurssista, jota käyn avoimen yliopiston kautta. Pyrin kuitenkin ottamaan kaiken irti tästä kurssista, sillä se vaikuttaa äärimmäisen sopivalta sekä oman mielenkiinnon että työelämän kannalta."
   ]
  },
  {
   "cell_type": "markdown",
   "metadata": {},
   "source": [
    "### **<font color='#464d4f'>Luento</font>**"
   ]
  },
  {
   "cell_type": "markdown",
   "metadata": {},
   "source": [
    "Luennon aluksi käytiin läpi kurssin suorittamiseen liittyvät asiat ja kurssiaikataulu. Tämä vei noin kolmanneksen luennosta, joten varsinaista asiasisältöä tuli ensimmäiselle luennolle tyypilliseen tapaan vähemmän kuin normaalisti. Harjoitustyön toteuttaminen käydään läpi myöhemmin.\n",
    "\n",
    "On erinomainen idea toteuttaa luentomateriaali Jupyter Notebookeina! Päätin itsekin yrittää oppimispäiväkirjan toteuttamista Notebookina. Siitä seurasi ensimmäinen ongelma: miten se tapahtuu? Osallistun kurssille FiTechin kautta, enkä ole aiemmin ollut missään tekemisissä Notebookien kanssa (eli jos perusopiskelijoille on sitä jollain aiemmalla kurssilla opetettu, en ole sellaista oppia saanut). No, netti auttaa tarvittaessa, kuten aina. \n",
    "\n",
    "Käytiin nopeasti läpi joitain Notebookin toiminnallisuuksia ja datatieteen historiaa.\n",
    "\n",
    "- Data scientistin osaamisalueet: liiketoimintaosaaminen, ohjelmointi- ja tietokantaosaaminen, tilastollinen analyysi, datalähtöinen viestintä ja visualisointi\n",
    "\n",
    "Python on ensisijainen ohjelmointikieli datatieteessä. Koodiosaaminen on arvokasta, koska graafisilla valmisvälineillä (PowerBI, Tableau...) on rajansa ja rajoitteensa. Koodi on joustavaa ja sillä voi käsitellä dataa mistä tahansa tietolähteestä. Koodilla analyysi voidaan ajastaa ajettavaksi halutuin aikavälein. Koodi on toistettavaa, korjattavaa, ja ainakin Pythonin osalta yhteisön tuki on valtavaa, valmista koodia on saatavilla joka lähtöön.\n",
    "\n",
    "CRISP-DM -mallin kohdalla puhuttiin kysymysten asettelusta ennen varsinaseen analyysiprosessiin ryhtymistä. Data on jo olemassa, mutta mitä siitä halutaan saada selville? Luovuus tuli tässä yhteydessä esiin. Millasessa muodossa tarvitsemme datan vastataksemme kysymyksiimme? Datan valmistelu on koko prosessin heittämällä aikaa vievin osuus. Valmistelun jälkeen dataa voidaan mallintaa, jossa koneoppiminen on ydinmenetelmäjoukko. Dataa esim. jatkojalostetaan koneoppimisen menetelmillä.\n",
    "\n",
    "Data scientistien työkalupakkien ja osaamisaluiden esittely visualisointeina, etenkin metrokartassa oleva tavaran määrä on ihan älytön. Tuskin kukaan noita kaikkia hallitsee, tiimityö kunniaan! Omalla kohdalla metrokartasta on tämän jakson aikana tarkoitus ottaa haltuun muilla kursseilla database basics ja Python data-analytiikassa mahdollisimman syvällisesti. Tämän kurssin osalta olen vielä hieman katselumoodissa, toivottavasti ainakin peruskäsitys tulee mahdollisimman monesta asiasta, joita voi syventää myöhemmin joko opiskelemalla tai työelämässä.\n",
    "\n",
    "Big data - volume, velocity, veracity, variety. Mitä isompi data, sitä enemmän menee aikaa sen haltuunottamiseen.\n",
    "\n",
    "Lopuksi maininta Roslingin videosta. En ole videota katsonut, mutta pitää korjata asia. Gapminder vaikuttaa aivan loistavalta harjoitteluun! Myös Kaggle pitää pitää mielessä."
   ]
  },
  {
   "cell_type": "markdown",
   "metadata": {},
   "source": [
    "### **<font color='#464d4f'>Oivalluksia ja opittua</font>**"
   ]
  },
  {
   "cell_type": "markdown",
   "metadata": {},
   "source": [
    "> Datatiede on luova ala. Olen ollut jonkin verran tekemisissä isojen aineistojen kanssa, mutta ne ovat olleet excelöitävissä olevia rekisterejä ja tilastoja. \n",
    "Jo pelkästään rekisteriaineistoista saa irti vaikka mitä luovuutta käyttämällä, joten on helppo uskoa datatieteen vievän luovuusvaateen monta pykälää korkeammalle tasolle.\n"
   ]
  },
  {
   "cell_type": "markdown",
   "metadata": {},
   "source": [
    "> Jupyter Notebookia käytetään ihan konkreettisesti datatieteen tekemiseen. Tämä oli minulle uusi asia, ja sementoi päätöksen toteuttaa tämä OPK ko. muodossa. Saan näillä näkymin työssäoppimispaikan yrityksessä, jossa teen data-analyyseja. Notebookit ovat todennäköisesti myös erinomainen raportoimisväline."
   ]
  },
  {
   "cell_type": "markdown",
   "metadata": {},
   "source": [
    "> Data scientistien työkalupakki on valtava ja paperilla olevat osaamisvaatimukset käytännössä epärealistisia. Oletan, että jokainen syventää osaamistaan niiden työkalujen osalta, mitä päivittäisessä työssään tarvitsee ja käyttää. Olen FM maantieteen alalta, ja visioni datatieteen osaamisen lisäämisestä repertuaariini on se, että pystyn olemaan duunissa se tyyppi, joka osaa ideoida ja hyväksikäyttää valtavia tietomassoja mitä esim. rakennetusta ympäristöstä on. Jos vaikka prosessoin liikennemäärädataa ja sitä kautta lasken kullekin tienpätkälle todennäköisen päällystekunnon, en välttämättä tarvitse business-osaamista. Tosin tuskin nimikkeeni koskaan tuleekaan olemaan \"Data scientist\". Ehkä revelaatio onkin se, että kaikkea ei tarvitse osata, vaan datatieteen työkaluja voi käyttää soveltaen. Hyvässä tiimissä joku toinen osaa asiat mitä itse ei."
   ]
  },
  {
   "cell_type": "markdown",
   "metadata": {},
   "source": [
    "> Datatieteen tekijät ja kohteet ovat yleensä ihmisiä, ihminen on myös datan tuottaja. Siten tietojohtaminen liittyy aina ihmiseen ja/tai ihmistoimintaan."
   ]
  },
  {
   "cell_type": "markdown",
   "metadata": {},
   "source": [
    "> Demoluento - ei se (välttämättä) oo niin vaikeeta hei! Tottakai ensimmäisessä demossa asiat ovat yksinkertaisia, mutta oli opettava kokemus nähdä ensimmäistä kertaa käytännössä \"oikeaa\" datan pyörittämistä Pythonilla. Erjonin osuus oli tämän viikon innostavin pätkä. Oli mukava huomata, että itse osaisi pienellä kirjastojen tutkimisella toistaa samat jutut ilman erillisiä ohjeita."
   ]
  },
  {
   "cell_type": "markdown",
   "metadata": {},
   "source": [
    "* Bonus: ehkä toisen viikon kohdalla osaan tehdä tiiviimmän OPK-entryn..."
   ]
  },
  {
   "cell_type": "markdown",
   "metadata": {},
   "source": [
    "### **<font color='#464d4f'>Kehityskohteita / flippausvinkkejä</font>**"
   ]
  },
  {
   "cell_type": "markdown",
   "metadata": {},
   "source": [
    "> Olisin toivonut laajempaa ohjeistusta Jupyter Notebookin käyttöön vaikka erillisenä dokumenttina, jotta oppimispäiväkirjaprosessi olisi lähtenyt jouhevammin käyntiin. Notebookin käytön opettelu ei vaikuta olevan kovinkaan haastavaa, mutta en esim. tiedä tässä kohtaa miten saan sen palautettavaan muotoon Gitiin tms. Tosin, eihän kukaan pakottanut nimenomaan Notebookia käyttämään, ja Jukkakin vinkkasi luennolla, ettei välttämättä tarvitse ensimmäisellä viikolla vielä kirjoittaa Notebookiin.</br></br> \n",
    "**2nd week edit:** Toisella viikolla asia selvennettiin, kiitos!"
   ]
  },
  {
   "cell_type": "markdown",
   "metadata": {},
   "source": [
    "> <a href=\"https://www.youtube.com/watch?v=X3paOmcrTjQ\">Data Science In 5 Minutes | Data Science For Beginners | What Is Data Science?</a> - Lyhyt YT-video data scientistin työstä/työkaluista, voi auttaa kurssin alkuun ymmärtämään datatieteen vaatimuksia ja sovelluskenttiä.\n",
    "\n"
   ]
  },
  {
   "cell_type": "markdown",
   "metadata": {},
   "source": [
    "### **<font color='#464d4f'>Code of the Week</font>**"
   ]
  },
  {
   "cell_type": "code",
   "execution_count": 3,
   "metadata": {},
   "outputs": [
    {
     "data": {
      "text/html": [
       "<div>\n",
       "<style scoped>\n",
       "    .dataframe tbody tr th:only-of-type {\n",
       "        vertical-align: middle;\n",
       "    }\n",
       "\n",
       "    .dataframe tbody tr th {\n",
       "        vertical-align: top;\n",
       "    }\n",
       "\n",
       "    .dataframe thead th {\n",
       "        text-align: right;\n",
       "    }\n",
       "</style>\n",
       "<table border=\"1\" class=\"dataframe\">\n",
       "  <thead>\n",
       "    <tr style=\"text-align: right;\">\n",
       "      <th></th>\n",
       "      <th>country</th>\n",
       "      <th>continent</th>\n",
       "      <th>year</th>\n",
       "      <th>lifeExp</th>\n",
       "      <th>pop</th>\n",
       "      <th>gdpPercap</th>\n",
       "    </tr>\n",
       "  </thead>\n",
       "  <tbody>\n",
       "    <tr>\n",
       "      <th>0</th>\n",
       "      <td>Afghanistan</td>\n",
       "      <td>Asia</td>\n",
       "      <td>1952</td>\n",
       "      <td>28.801</td>\n",
       "      <td>8425333</td>\n",
       "      <td>779.445314</td>\n",
       "    </tr>\n",
       "    <tr>\n",
       "      <th>1</th>\n",
       "      <td>Afghanistan</td>\n",
       "      <td>Asia</td>\n",
       "      <td>1957</td>\n",
       "      <td>30.332</td>\n",
       "      <td>9240934</td>\n",
       "      <td>820.853030</td>\n",
       "    </tr>\n",
       "    <tr>\n",
       "      <th>2</th>\n",
       "      <td>Afghanistan</td>\n",
       "      <td>Asia</td>\n",
       "      <td>1962</td>\n",
       "      <td>31.997</td>\n",
       "      <td>10267083</td>\n",
       "      <td>853.100710</td>\n",
       "    </tr>\n",
       "    <tr>\n",
       "      <th>3</th>\n",
       "      <td>Afghanistan</td>\n",
       "      <td>Asia</td>\n",
       "      <td>1967</td>\n",
       "      <td>34.020</td>\n",
       "      <td>11537966</td>\n",
       "      <td>836.197138</td>\n",
       "    </tr>\n",
       "    <tr>\n",
       "      <th>4</th>\n",
       "      <td>Afghanistan</td>\n",
       "      <td>Asia</td>\n",
       "      <td>1972</td>\n",
       "      <td>36.088</td>\n",
       "      <td>13079460</td>\n",
       "      <td>739.981106</td>\n",
       "    </tr>\n",
       "  </tbody>\n",
       "</table>\n",
       "</div>"
      ],
      "text/plain": [
       "       country continent  year  lifeExp       pop   gdpPercap\n",
       "0  Afghanistan      Asia  1952   28.801   8425333  779.445314\n",
       "1  Afghanistan      Asia  1957   30.332   9240934  820.853030\n",
       "2  Afghanistan      Asia  1962   31.997  10267083  853.100710\n",
       "3  Afghanistan      Asia  1967   34.020  11537966  836.197138\n",
       "4  Afghanistan      Asia  1972   36.088  13079460  739.981106"
      ]
     },
     "execution_count": 3,
     "metadata": {},
     "output_type": "execute_result"
    }
   ],
   "source": [
    "# Yksinkertaisesti se, että tällainen harjoittelualusta on olemassa. Hienoa!\n",
    "import pandas as pd\n",
    "from gapminder import gapminder\n",
    "gapminder.head(5)"
   ]
  },
  {
   "cell_type": "markdown",
   "metadata": {},
   "source": [
    "***"
   ]
  },
  {
   "cell_type": "markdown",
   "metadata": {},
   "source": [
    " "
   ]
  },
  {
   "cell_type": "markdown",
   "metadata": {},
   "source": [
    "## **<font color='33a2ff'>Luentoviikko 2 - Datan kerääminen ja jalostaminen</font>**"
   ]
  },
  {
   "cell_type": "markdown",
   "metadata": {},
   "source": [
    "Osallistuin luennolle, ja demoluennolle, joten ne ovat aineistona. Minulle tuntuu sopivan OPK:n osalta parhaiten työskentelymalli, jossa teen Luento-otsikon alle perinteisen luentopäiväkirjan tyyppisen listauksen luennolla läpikäydyistä asioista (luennon aikana), ja Oivalluksia ja opittua -otsikon alla puran oppimaani. Toistaiseksi vielä, kuten aiemminkin mainittu, aikaa ei tähän kurssiin liikaa liikene, joten ajallisesti tämä lähestymistapa vaikuttaa tehokkaammalta."
   ]
  },
  {
   "cell_type": "markdown",
   "metadata": {},
   "source": [
    "### **<font color='#464d4f'>Luento</font>**"
   ]
  },
  {
   "cell_type": "markdown",
   "metadata": {},
   "source": [
    "**Datatiedeprosessin vaiheet (Data Science Workflow):**\n",
    "Datan hankinta ja siivoaminen (preparation) vie n. 80 % työajasta. Valmiin datan analysointi (analysis), tulosten arviointi ja kysymysten mahdollinen uudelleen muotoilu (reflection), valmiiden tulosten tietyksi tekeminen (dissemination). Kuulostaa aika normaalilta tutkimustyökäytännöltä.\n",
    "\n",
    "**ETL (Extract/Load/Transform) vs. DAD (Discover/Access/Distill):** Yksi suurimmista eroista data engineerien ja data scientistien välillä. Data engineer (ETL) huolehtii dataflowsta, ohjelmoinnista, databaseista; data scientistin (DAD) pitää ymmärtää dataflow, luovat arvoa datasta. \n",
    "\n",
    "**Asiat jotka tiedämme/emme tiedä tietävämme:** Tietämisen nelikenttä. Tiedetyt tietämiset, tiedetyt tietämättömyydet, tietämättömät tietämiset (hiljainen tieto), tietämättömät tietämättömyydet. Mitä näistä datatiede pystyy/pyrkii valottamaan?\n",
    "\n",
    "**Ryömijät ja raapijat (Web crawler, Web scraping, Web Scraping in Python, Scrapy):** Ryömijä laajentaa hakuavaruutta hyperlinkkien etsimisellä, raapija kerää tiedon hyperlinkkien takaa. Laillisuus, eettisyys? Kuinka paljon esim. kilpailijan tietoja voi raapia? \n",
    "* Muistiin Beautiful Soup ja Pythonin requests-kirjasto.\n",
    "\n",
    "**API-ohjelmointi (How to use an API with Python):** Ensimmäisen twiitin etsintä -demo, ja nämä luentojen demot ylipäätään, on mainioita ja valaisevia. Käytännön toteutusten näkeminen on aina hieno juttu teorian seassa.\n",
    "\n",
    "\n",
    "**Datan esitarkastelu Pythonilla:** Jälleen erinomainen demo, missä pandasin työkaluilla kaivettiin tietoja isohkosta dataframesta. Esim. tyhjiä tietoja sisältävien rivien poistaminen on Pythonilla huomattavasti helpompaa kuin Excelillä. Pandasin Cheat sheet myös muistiin.\n",
    "\n",
    "Flinga kurssin suorittamisen esteistä/hidasteista erinomainen idea!"
   ]
  },
  {
   "cell_type": "markdown",
   "metadata": {},
   "source": [
    "### **<font color='#464d4f'>Oivalluksia ja opittua</font>**"
   ]
  },
  {
   "cell_type": "markdown",
   "metadata": {},
   "source": [
    "> Analytiikan nykytila yrityksissä on jokseenkin retuperällä. Tämä on ollut uudehko tieto tältä kurssilta. Toisaalta koulutuksen (Piece of Work) työjaksohaastattelussa yritys nimenomaan painotti, että heillä nämä jutut ovat lapsenkengissä, ja minun rooli olisi olla mukana ajamassa asiaa eteenpäin."
   ]
  },
  {
   "cell_type": "markdown",
   "metadata": {},
   "source": [
    "> Ensimmäiseltä viikolta avoimeksi jääneeseen kysymykseen vastaus: Notebook on helpoin laittaa Colabiin. Kuitenkin, jos aika riittää, aion opetella GitHubin käyttöä ainakin sen verran, että saan OPK:ni sinne. Gitistä on varmasti tulevaisuudessa enemmän hyötyä."
   ]
  },
  {
   "cell_type": "markdown",
   "metadata": {},
   "source": [
    "> Ryöminnän ja raavinnan verkkokauppa.com -esimerkki hyvä, selvensi sitä miten ryömijät/raapijat ylipäätään toimivat. Odotan innolla käytännön toteutuksen opettamista!"
   ]
  },
  {
   "cell_type": "markdown",
   "metadata": {},
   "source": [
    "> Samoin pandas-demo erinomainen. Vaikka koodissa on monimutkaisempia niekkuja, vahvistuu tunne, että \"pullonkaula\" on enemmänkin ymmärrys siitä mitä datalla haluaa tehdä ja mitä sieltä yrittää löytää, kuin tekninen toteutus."
   ]
  },
  {
   "cell_type": "markdown",
   "metadata": {},
   "source": [
    ">Scraperien koodi (ainakin demoluennon esimerkissä) on yksinkertaisempaa kuin luulin. Tarkemmin ajateltuna se käy järkeen, koska scraperit, hieman liioitellen, vain lukevat ja tallentavat tekstiä."
   ]
  },
  {
   "cell_type": "markdown",
   "metadata": {},
   "source": [
    "### **<font color='#464d4f'>Kehityskohteita / flippausvinkkejä</font>**"
   ]
  },
  {
   "cell_type": "markdown",
   "metadata": {},
   "source": [
    "> Luennot voisivat olla kolmetuntisia. Kahden tunnin luentojen loppua kohden Jukalla tulee kiire, joka tietysti vaikeuttaa asioiden sisäistämistä ja ymmärtämistä. Myöskään mahdollisille kysymyksille ei jää aikaa."
   ]
  },
  {
   "cell_type": "markdown",
   "metadata": {},
   "source": [
    "> Demoluennoilla ainakin näinä ensimmäisinä viikkoina tilanne on ollut se, että Erjonilla tulee kiire demojen kanssa, ja jälkimmäisen tunnin aikana Zoom hiljenee. Pihlalle voi olla muutama kysymys, jonka jälkeen jää aikaa, jonka Erjon olisi voinut käyttää demon tarkempaan läpikäymiseen. 75 % ajasta demolle ja loput Q&A? Kysymyksiä voi kuitenkin esittää Slackissakin. Toinen vaihtoehto on, että Erjon tekisi demonauhoitteet etukäteen. Tosin silloin demon aikana kysymyksiä ei voi esittää. On toki myös oletettavaa, että Pihlalle tulee enemmän kysymyksiä kun opiskelijat saavat harjoitustyönsä käyntiin."
   ]
  },
  {
   "cell_type": "markdown",
   "metadata": {},
   "source": [
    "### **<font color='#464d4f'>Code of the Week</font>**"
   ]
  },
  {
   "cell_type": "code",
   "execution_count": 5,
   "metadata": {},
   "outputs": [],
   "source": [
    "# Edelleen Notebookin käytön perusasioiden opettelua\n",
    "\n",
    "from IPython.display import YouTubeVideo as ytvideo\n",
    "# from IPython.display import HTML"
   ]
  },
  {
   "cell_type": "markdown",
   "metadata": {},
   "source": [
    "Kuvan lisääminen | Kuvalinkki YouTube-videoon (ensimmäisen viikon tipsivideo)<br/>En löytänyt mistään mahdollisuutta embedata videota suoraan tableen\n",
    "----|---\n",
    "<img src=\"data-scientist-profile1.jpg\" style=\"width: 600px;\"/>  | [![](https://img.youtube.com/vi/X3paOmcrTjQ/0.jpg)](https://www.youtube.com/watch?v=X3paOmcrTjQ)"
   ]
  },
  {
   "cell_type": "code",
   "execution_count": 9,
   "metadata": {},
   "outputs": [
    {
     "data": {
      "image/jpeg": "[encoded data removed]",
      "text/html": [
       "\n",
       "        <iframe\n",
       "            width=\"600\"\n",
       "            height=\"300\"\n",
       "            src=\"https://www.youtube.com/embed/X3paOmcrTjQ\"\n",
       "            frameborder=\"0\"\n",
       "            allowfullscreen\n",
       "        ></iframe>\n",
       "        "
      ],
      "text/plain": [
       "<IPython.lib.display.YouTubeVideo at 0x1a80477dac0>"
      ]
     },
     "execution_count": 9,
     "metadata": {},
     "output_type": "execute_result"
    }
   ],
   "source": [
    "# Ensimmäisen viikon tipsivideo YouTubeVideolla upotettuna\n",
    "ytvideo('X3paOmcrTjQ', width=600, height=300)"
   ]
  },
  {
   "cell_type": "markdown",
   "metadata": {},
   "source": [
    "***"
   ]
  },
  {
   "cell_type": "markdown",
   "metadata": {},
   "source": [
    " "
   ]
  },
  {
   "cell_type": "markdown",
   "metadata": {},
   "source": [
    "## **<font color='33a2ff'>Luentoviikko 3 - Koneoppimisen periaatteet</font>**"
   ]
  },
  {
   "cell_type": "markdown",
   "metadata": {},
   "source": [
    "Luennot ja demo jälleen viikon aineistona. Lisäksi annettu ennakkolukemislinkki https://rajapinta.co/2017/10/16/nain-laadullinen-tieto-jalostuu-laskennalliseksi-piirteet-sosiaalisen-median-analytiikassa/ ja muut luentorungon linkit."
   ]
  },
  {
   "cell_type": "markdown",
   "metadata": {},
   "source": [
    "### **<font color='#464d4f'>Luento</font>**"
   ]
  },
  {
   "cell_type": "markdown",
   "metadata": {},
   "source": [
    "**Koneoppimisen työnkulku, ohjattu oppiminen:**"
   ]
  },
  {
   "cell_type": "markdown",
   "metadata": {},
   "source": [
    "<img src=\"ml_svlw.jpg\" style=\"width: 400px;\"/>"
   ]
  },
  {
   "cell_type": "markdown",
   "metadata": {},
   "source": [
    "> **Opettaminen:**"
   ]
  },
  {
   "cell_type": "markdown",
   "metadata": {},
   "source": [
    "&nbsp;&nbsp;&nbsp;&nbsp;&nbsp;&nbsp;&nbsp;&nbsp;&nbsp;&nbsp;&nbsp;&nbsp;- Raakadata, labels (ennustettava muuttuja, asiakaspoistuma-analyysi)</br>\n",
    "&nbsp;&nbsp;&nbsp;&nbsp;&nbsp;&nbsp;&nbsp;&nbsp;&nbsp;&nbsp;&nbsp;&nbsp;- Piirteiden suunnittelu (feature extraction)</br>\n",
    "&nbsp;&nbsp;&nbsp;&nbsp;&nbsp;&nbsp;&nbsp;&nbsp;&nbsp;&nbsp;&nbsp;&nbsp;- Piirrematriisi (sarakeotsikkoina piirteitä, riveinä havaintoja, esim. asiakkaita)</br>\n",
    "&nbsp;&nbsp;&nbsp;&nbsp;&nbsp;&nbsp;&nbsp;&nbsp;&nbsp;&nbsp;&nbsp;&nbsp;- Mallin opettaminen --> koneoppimismalli --> mallin arviointi --> malli tuotantokäyttöön</br></br>\n",
    "\n",
    "\n",
    "> **Ennustaminen:**</br>\n"
   ]
  },
  {
   "cell_type": "markdown",
   "metadata": {},
   "source": [
    "&nbsp;&nbsp;&nbsp;&nbsp;&nbsp;&nbsp;&nbsp;&nbsp;&nbsp;&nbsp;&nbsp;&nbsp;- Uutta dataa (esim. uusia asiakkaita)</br>\n",
    "&nbsp;&nbsp;&nbsp;&nbsp;&nbsp;&nbsp;&nbsp;&nbsp;&nbsp;&nbsp;&nbsp;&nbsp;- Piirteiden suunnittelu --> piirrevektori</br>\n",
    "&nbsp;&nbsp;&nbsp;&nbsp;&nbsp;&nbsp;&nbsp;&nbsp;&nbsp;&nbsp;&nbsp;&nbsp;- Malli --> labels</br>"
   ]
  },
  {
   "cell_type": "markdown",
   "metadata": {},
   "source": [
    "> Algoritmin ymmärrettävyys etenkin epäteknisten asiakkaiden kanssa."
   ]
  },
  {
   "cell_type": "markdown",
   "metadata": {},
   "source": [
    "### **<font color='#464d4f'>Oivalluksia ja opittua</font>**"
   ]
  },
  {
   "cell_type": "markdown",
   "metadata": {},
   "source": [
    "> Alan ymmärtämään mitä koneoppiminen ylipäätään on. Aiempi mututuntuma on ollut naiivi mielikuva supermoderneista roboteista jotka tekevät syväluotaavaa analyysityötä. Tekoäly != koneoppiminen."
   ]
  },
  {
   "cell_type": "markdown",
   "metadata": {},
   "source": [
    "> Koneoppimisen mallit eivät ole koskaan 100 % tarkkoja, koska ihmisetkään eivät siihen pysty."
   ]
  },
  {
   "cell_type": "markdown",
   "metadata": {},
   "source": [
    "> GitHub-opastus ennen taukoa juuri sitä mitä lääkäri määräsi! Ehdin pelkäämään, etten ehdi opettelemaan Gitin käyttöä OPK:n uppaamista varten. Kiitos!"
   ]
  },
  {
   "cell_type": "markdown",
   "metadata": {},
   "source": [
    "> \"Raakadatassa\" ei ole välttämättä mitään suurta totuutta, vaan siihen ja sen muodostusprosessiin pitää suhtautua kriittisesti."
   ]
  },
  {
   "cell_type": "markdown",
   "metadata": {},
   "source": [
    "> Koneoppimisen ja mallintamisen tekninen suorittaminen ainakin demoluennon yksinkertaisen(?) esimerkin perusteella on vähemmän työlästä mitä oletin. Toki, kuten kaikessa tilastotieteellisessä toiminnassa, ongelma ei ole laskenta vaan tulosten tulkitseminen."
   ]
  },
  {
   "cell_type": "markdown",
   "metadata": {},
   "source": [
    "### **<font color='#464d4f'>Kehityskohteita / flippausvinkkejä</font>**"
   ]
  },
  {
   "cell_type": "markdown",
   "metadata": {},
   "source": [
    "Ei mitään tällä viikolla!"
   ]
  },
  {
   "cell_type": "markdown",
   "metadata": {},
   "source": [
    "### **<font color='#464d4f'>Code of the Week</font>**"
   ]
  },
  {
   "cell_type": "code",
   "execution_count": null,
   "metadata": {},
   "outputs": [],
   "source": [
    "# pandas.get_dummies() is used for data manipulation. It converts categorical data into dummy or indicator variables.\n",
    "\n",
    "# in demo:\n",
    "print(data.info())\n",
    "data = pd.get_dummies(data)\n",
    "print(data.info())"
   ]
  },
  {
   "cell_type": "code",
   "execution_count": 5,
   "metadata": {},
   "outputs": [
    {
     "name": "stdout",
     "output_type": "stream",
     "text": [
      "   1  6  f  t  u  NaN\n",
      "0  0  0  0  0  1    0\n",
      "1  0  0  1  0  0    0\n",
      "2  0  0  0  1  0    0\n",
      "3  0  0  0  1  0    0\n",
      "4  0  0  0  0  0    1\n",
      "5  1  0  0  0  0    0\n",
      "6  0  1  0  0  0    0\n",
      "7  0  0  0  0  0    1\n"
     ]
    }
   ],
   "source": [
    "import pandas as pd\n",
    "import numpy as np\n",
    " \n",
    "test_list = ['u', 'f', 't','t', np.nan, 1, 6, np.nan]\n",
    "print(pd.get_dummies(test_list, dummy_na = True))"
   ]
  },
  {
   "cell_type": "markdown",
   "metadata": {},
   "source": [
    "***"
   ]
  },
  {
   "cell_type": "markdown",
   "metadata": {},
   "source": [
    " "
   ]
  },
  {
   "cell_type": "markdown",
   "metadata": {},
   "source": [
    "## **<font color='33a2ff'>Luentoviikko 4 - Harjoitustyöhön tutustuminen</font>**"
   ]
  },
  {
   "cell_type": "markdown",
   "metadata": {},
   "source": [
    "Tällä viikolla materiaalina toimii luentotallenne, demo vasta ensi viikon perjantaina."
   ]
  },
  {
   "cell_type": "markdown",
   "metadata": {},
   "source": [
    "### **<font color='#464d4f'>Luento</font>**"
   ]
  },
  {
   "cell_type": "markdown",
   "metadata": {},
   "source": [
    "Harjoitustyöhön tutustuminen ja datatieteen tekemiseen yleensä. Prosessin valinta, esim. CRISP-DM (Cross Industy Standard Process for Data Mining), jota tehtiin käytännössä.\n",
    "\"Tavoitteena on korostaa sitä, että todellisen maailman datatiedeprojekteissa lähtökohtana on **oletusarvoisesti liiketoimintaongelma, ei data.**\""
   ]
  },
  {
   "cell_type": "markdown",
   "metadata": {},
   "source": [
    "### **<font color='#464d4f'>Oivalluksia ja opittua</font>**"
   ]
  },
  {
   "cell_type": "code",
   "execution_count": null,
   "metadata": {},
   "outputs": [],
   "source": []
  },
  {
   "cell_type": "markdown",
   "metadata": {},
   "source": [
    "### **<font color='#464d4f'>Kehityskohteita / flippausvinkkejä</font>**"
   ]
  },
  {
   "cell_type": "code",
   "execution_count": null,
   "metadata": {},
   "outputs": [],
   "source": []
  },
  {
   "cell_type": "markdown",
   "metadata": {},
   "source": [
    "### **<font color='#464d4f'>Code of the Week</font>**"
   ]
  },
  {
   "cell_type": "code",
   "execution_count": null,
   "metadata": {},
   "outputs": [],
   "source": []
  },
  {
   "cell_type": "markdown",
   "metadata": {},
   "source": [
    "***"
   ]
  },
  {
   "cell_type": "markdown",
   "metadata": {},
   "source": [
    "## **<font color='33a2ff'>Luentoviikko 5 - Solita NLP (vierailuluento)</font>**"
   ]
  },
  {
   "cell_type": "markdown",
   "metadata": {},
   "source": [
    "### **<font color='#464d4f'>Luento</font>**"
   ]
  },
  {
   "cell_type": "markdown",
   "metadata": {},
   "source": []
  },
  {
   "cell_type": "markdown",
   "metadata": {},
   "source": [
    "### **<font color='#464d4f'>Oivalluksia ja opittua</font>**"
   ]
  },
  {
   "cell_type": "code",
   "execution_count": null,
   "metadata": {},
   "outputs": [],
   "source": []
  },
  {
   "cell_type": "markdown",
   "metadata": {},
   "source": [
    "### **<font color='#464d4f'>Kehityskohteita / flippausvinkkejä</font>**"
   ]
  },
  {
   "cell_type": "code",
   "execution_count": null,
   "metadata": {},
   "outputs": [],
   "source": []
  },
  {
   "cell_type": "markdown",
   "metadata": {},
   "source": [
    "### **<font color='#464d4f'>Code of the Week</font>**"
   ]
  },
  {
   "cell_type": "code",
   "execution_count": null,
   "metadata": {},
   "outputs": [],
   "source": []
  }
 ],
 "metadata": {
  "kernelspec": {
   "display_name": "Python 3",
   "language": "python",
   "name": "python3"
  },
  "language_info": {
   "codemirror_mode": {
    "name": "ipython",
    "version": 3
   },
   "file_extension": ".py",
   "mimetype": "text/x-python",
   "name": "python",
   "nbconvert_exporter": "python",
   "pygments_lexer": "ipython3",
   "version": "3.8.5"
  }
 },
 "nbformat": 4,
 "nbformat_minor": 4
}
